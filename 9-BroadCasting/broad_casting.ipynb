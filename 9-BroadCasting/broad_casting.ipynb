{
 "cells": [
  {
   "cell_type": "markdown",
   "metadata": {},
   "source": [
    "# Broadcasting"
   ]
  },
  {
   "cell_type": "markdown",
   "metadata": {},
   "source": [
    " Broadcasting allows numpy to perform element-wise operations on arrays of different shapes."
   ]
  },
  {
   "cell_type": "markdown",
   "metadata": {},
   "source": [
    "## For example"
   ]
  },
  {
   "cell_type": "markdown",
   "metadata": {},
   "source": [
    " if you have an array of shape (3, 1) and another array of shape (1, 4),"
   ]
  },
  {
   "cell_type": "markdown",
   "metadata": {},
   "source": [
    "numpy will broadcast them to a common shape (3, 4) to perform element-wise operations.\n"
   ]
  },
  {
   "cell_type": "code",
   "execution_count": null,
   "metadata": {},
   "outputs": [],
   "source": [
    "import numpy as np"
   ]
  },
  {
   "cell_type": "markdown",
   "metadata": {},
   "source": [
    "### Example 1: Adding a scalar to an array"
   ]
  },
  {
   "cell_type": "code",
   "execution_count": null,
   "metadata": {},
   "outputs": [],
   "source": [
    "array = np.array([1, 2, 3])\n",
    "scalar = 2\n",
    "result = array + scalar\n",
    "\n",
    "print(\"Adding scalar to array:\", result)  # Output: [3 4 5]\n"
   ]
  },
  {
   "cell_type": "markdown",
   "metadata": {},
   "source": []
  },
  {
   "cell_type": "markdown",
   "metadata": {},
   "source": [
    "### Example 2: Adding two arrays of different shapes"
   ]
  },
  {
   "cell_type": "code",
   "execution_count": null,
   "metadata": {},
   "outputs": [],
   "source": [
    "array1 = np.array([[1], [2], [3]])\n",
    "array2 = np.array([4, 5, 6])\n",
    "result = array1 + array2\n",
    "print(\"Adding arrays of different shapes:\\n\", result)\n",
    "# Output:\n",
    "# [[5 6 7]\n",
    "#  [6 7 8]\n",
    "#  [7 8 9]]"
   ]
  },
  {
   "cell_type": "markdown",
   "metadata": {},
   "source": [
    "### Example 3: Multiplying arrays of different shapes"
   ]
  },
  {
   "cell_type": "code",
   "execution_count": null,
   "metadata": {},
   "outputs": [],
   "source": [
    "array3 = np.array([[1, 2, 3], [4, 5, 6]])\n",
    "array4 = np.array([1, 2, 3])\n",
    "result = array3 * array4\n",
    "print(\"Multiplying arrays of different shapes:\\n\", result)\n",
    "# Output:\n",
    "# [[ 1  4  9]\n",
    "#  [ 4 10 18]]"
   ]
  }
 ],
 "metadata": {
  "kernelspec": {
   "display_name": "Python 3",
   "language": "python",
   "name": "python3"
  },
  "language_info": {
   "name": "python",
   "version": "3.12.9"
  }
 },
 "nbformat": 4,
 "nbformat_minor": 2
}
