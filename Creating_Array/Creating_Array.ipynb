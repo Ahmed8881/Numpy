{
 "cells": [
  {
   "cell_type": "code",
   "execution_count": null,
   "metadata": {
    "vscode": {
     "languageId": "plaintext"
    }
   },
   "outputs": [],
   "source": []
  },
  {
   "cell_type": "code",
   "execution_count": null,
   "metadata": {
    "vscode": {
     "languageId": "plaintext"
    }
   },
   "outputs": [],
   "source": [
    "make jumpiter note book for this code with proper explanination\n",
    "import numpy as np  # Importing the numpy library\n",
    "\n",
    "# Creating a 1D array with elements 1, 2, 3, 4, 5\n",
    "arr1 = np.array([1, 2, 3, 4, 5])\n",
    "print(arr1)  # Printing the 1D array\n",
    "\n",
    "# Getting the type of the array\n",
    "new = type(arr1)\n",
    "print(new)  # Printing the type of the array, which should be <class 'numpy.ndarray'>\n",
    "\n",
    "# Creating a 2D array with elements [[1, 2, 3], [4, 5, 6]]\n",
    "arr2 = np.array([[1, 2, 3], [4, 5, 6]])\n",
    "print(arr2)  # Printing the 2D array\n",
    "\n",
    "# Creating a 1D array of zeros with 5 elements\n",
    "ar3 = np.zeros(5)\n",
    "print(ar3)  # Printing the array of zeros\n",
    "\n",
    "# Creating a 2D array of zeros with shape (2, 3)\n",
    "ar4 = np.zeros((2, 3))\n",
    "print(ar4)  # Printing the 2D array of zeros\n",
    "\n",
    "# Creating a 1D array of ones with 5 elements\n",
    "ar5 = np.ones(5)\n",
    "print(ar5)  # Printing the array of ones\n",
    "\n",
    "# Creating a 2D array of ones with shape (2, 3)\n",
    "ar6 = np.ones((2, 3))\n",
    "print(ar6)  # Printing the 2D array of ones\n",
    "\n",
    "# Creating a 3x3 identity matrix\n",
    "arr6 = np.identity(3)\n",
    "print(arr6)  # Printing the identity matrix\n",
    "\n",
    "# Creating a 1D array with elements from 1 to 9 with a step of 2\n",
    "arr7 = np.arange(1, 10, 2)\n",
    "print(arr7)  # Printing the array\n",
    "\n",
    "# Creating a 1D array with elements from 0 to 9\n",
    "arr8 = np.arange(10)\n",
    "print(arr8)  # Printing the array\n",
    "\n",
    "# Creating a 1D array with 5 elements evenly spaced between 1 and 10\n",
    "arr9 = np.linspace(1, 10, 5)\n",
    "print(arr9)  # Printing the array\n",
    "\n",
    "# Creating a 1D array with 5 elements evenly spaced between 1 and 10, excluding the endpoint\n",
    "arr10 = np.linspace(1, 10, 5, endpoint=False)\n",
    "print(arr10)  # Printing the array\n",
    "\n",
    "# Creating a 1D array with 5 elements evenly spaced between 1 and 10, and returning the step size\n",
    "arr11 = np.linspace(1, 10, 5, retstep=True)\n",
    "print(arr11)  # Printing the array and the step size\n",
    "\n",
    "# Creating a 1D array with 5 elements evenly spaced between 1 and 10, returning the step size, and specifying the data type as int\n",
    "arr12 = np.linspace(1, 10, 5, retstep=True, dtype=int)\n",
    "print(arr12)  # Printing the array and the step size\n",
    "\n",
    "# Creating a copy of arr1\n",
    "arr13 = arr1.copy()\n",
    "print(arr13)  # Printing the copied array\n"
   ]
  },
  {
   "cell_type": "code",
   "execution_count": null,
   "metadata": {
    "vscode": {
     "languageId": "plaintext"
    }
   },
   "outputs": [],
   "source": []
  }
 ],
 "metadata": {
  "language_info": {
   "name": "python"
  }
 },
 "nbformat": 4,
 "nbformat_minor": 2
}
